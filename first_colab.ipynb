{
  "nbformat": 4,
  "nbformat_minor": 0,
  "metadata": {
    "colab": {
      "name": "first_colab.ipynb",
      "provenance": [],
      "collapsed_sections": [],
      "authorship_tag": "ABX9TyPev2TfuIXNouMzPR47DBmv",
      "include_colab_link": true
    },
    "kernelspec": {
      "name": "python3",
      "display_name": "Python 3"
    }
  },
  "cells": [
    {
      "cell_type": "markdown",
      "metadata": {
        "id": "view-in-github",
        "colab_type": "text"
      },
      "source": [
        "<a href=\"https://colab.research.google.com/github/miharu0626/ai/blob/master/first_colab.ipynb\" target=\"_parent\"><img src=\"https://colab.research.google.com/assets/colab-badge.svg\" alt=\"Open In Colab\"/></a>"
      ]
    },
    {
      "cell_type": "code",
      "metadata": {
        "id": "UaOR1jEn19Hx",
        "outputId": "d33027e4-c4ec-40f5-d409-1d182c2b407e",
        "colab": {
          "base_uri": "https://localhost:8080/"
        }
      },
      "source": [
        "print(\"Hello World\")"
      ],
      "execution_count": null,
      "outputs": [
        {
          "output_type": "stream",
          "text": [
            "Hello World\n"
          ],
          "name": "stdout"
        }
      ]
    },
    {
      "cell_type": "code",
      "metadata": {
        "id": "KCElnrBm2Nmr",
        "outputId": "058295f4-382c-474c-b4ae-e40dbc1c0377",
        "colab": {
          "base_uri": "https://localhost:8080/"
        }
      },
      "source": [
        "a = 3\n",
        "b = 4\n",
        "print(a + b)"
      ],
      "execution_count": null,
      "outputs": [
        {
          "output_type": "stream",
          "text": [
            "7\n"
          ],
          "name": "stdout"
        }
      ]
    },
    {
      "cell_type": "markdown",
      "metadata": {
        "id": "8KIzklYo2jES"
      },
      "source": [
        "**Phython**で*人工知能*のコードを書いていきましょう。  \n",
        "Colabにはコードセルとテキストセルがあります。　　\n",
        "\n",
        "1. リスト項目\n",
        "2. リスト項目\n",
        "3. 番号付きの箇条書きです\n",
        "\n",
        "* リスト項目\n",
        "* リスト項目\n",
        "* 箇条書きです\n",
        "\n",
        "[Google検索](https://google.com)\n",
        "\n"
      ]
    },
    {
      "cell_type": "markdown",
      "metadata": {
        "id": "-ZSRLkFD6h9_"
      },
      "source": [
        "$$y = 2x + 1 $$"
      ]
    }
  ]
}